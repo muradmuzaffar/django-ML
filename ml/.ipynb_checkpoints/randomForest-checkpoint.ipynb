{
 "cells": [
  {
   "cell_type": "code",
   "execution_count": 9,
   "id": "0596601a",
   "metadata": {},
   "outputs": [],
   "source": [
    "import pandas as pd\n",
    "import numpy as np\n",
    "from xgboost import XGBClassifier\n",
    "\n",
    "\n",
    "import pickle\n"
   ]
  },
  {
   "cell_type": "code",
   "execution_count": 10,
   "id": "3443879b",
   "metadata": {},
   "outputs": [],
   "source": [
    "import warnings\n",
    "warnings.filterwarnings('ignore')"
   ]
  },
  {
   "cell_type": "code",
   "execution_count": 102,
   "id": "881b553e",
   "metadata": {},
   "outputs": [],
   "source": [
    "df = pd.read_csv('ds_salaries.csv',index_col=0)"
   ]
  },
  {
   "cell_type": "code",
   "execution_count": 103,
   "id": "e786821b",
   "metadata": {},
   "outputs": [
    {
     "data": {
      "text/plain": [
       "460"
      ]
     },
     "execution_count": 103,
     "metadata": {},
     "output_type": "execute_result"
    }
   ],
   "source": [
    "n_df = pd.DataFrame(df.job_title.value_counts()).reset_index().head(8)\n",
    "sm = n_df['job_title'].sum()\n",
    "sm"
   ]
  },
  {
   "cell_type": "code",
   "execution_count": 104,
   "id": "f631aca6",
   "metadata": {},
   "outputs": [],
   "source": [
    "df['new'] = df['job_title'].map(df['job_title'].value_counts())\n",
    "\n",
    "\n",
    "data = df.sort_values(['new','job_title'], ascending=[False, True]).drop('new', axis=1).head(sm+8)"
   ]
  },
  {
   "cell_type": "code",
   "execution_count": 105,
   "id": "fb811800",
   "metadata": {},
   "outputs": [
    {
     "data": {
      "text/plain": [
       "428"
      ]
     },
     "execution_count": 105,
     "metadata": {},
     "output_type": "execute_result"
    }
   ],
   "source": [
    "n_df = pd.DataFrame(data.company_location.value_counts()).reset_index().head(12)\n",
    "sm = n_df['company_location'].sum()\n",
    "sm"
   ]
  },
  {
   "cell_type": "code",
   "execution_count": 106,
   "id": "691aaf58",
   "metadata": {},
   "outputs": [],
   "source": [
    "data['new'] = data['company_location'].map(data['company_location'].value_counts())\n",
    "\n",
    "\n",
    "data = data.sort_values(['new','company_location'], ascending=[False, True]).drop('new', axis=1).head(sm)"
   ]
  },
  {
   "cell_type": "code",
   "execution_count": 107,
   "id": "1d298fd8",
   "metadata": {},
   "outputs": [],
   "source": [
    "data = data[['experience_level','job_title','salary_in_usd','remote_ratio','company_size','company_location']]"
   ]
  },
  {
   "cell_type": "code",
   "execution_count": 108,
   "id": "e2fde9f7",
   "metadata": {},
   "outputs": [],
   "source": [
    "data['remote_ratio'] = data['remote_ratio'].astype('category')\n",
    "# data['salary_in_usd'] = data['salary_in_usd'].astype('float')"
   ]
  },
  {
   "cell_type": "code",
   "execution_count": 109,
   "id": "0032a551",
   "metadata": {},
   "outputs": [
    {
     "data": {
      "text/html": [
       "<div>\n",
       "<style scoped>\n",
       "    .dataframe tbody tr th:only-of-type {\n",
       "        vertical-align: middle;\n",
       "    }\n",
       "\n",
       "    .dataframe tbody tr th {\n",
       "        vertical-align: top;\n",
       "    }\n",
       "\n",
       "    .dataframe thead th {\n",
       "        text-align: right;\n",
       "    }\n",
       "</style>\n",
       "<table border=\"1\" class=\"dataframe\">\n",
       "  <thead>\n",
       "    <tr style=\"text-align: right;\">\n",
       "      <th></th>\n",
       "      <th>experience_level</th>\n",
       "      <th>job_title</th>\n",
       "      <th>salary_in_usd</th>\n",
       "      <th>remote_ratio</th>\n",
       "      <th>company_size</th>\n",
       "      <th>company_location</th>\n",
       "    </tr>\n",
       "  </thead>\n",
       "  <tbody>\n",
       "    <tr>\n",
       "      <th>0</th>\n",
       "      <td>SE</td>\n",
       "      <td>Data Scientist</td>\n",
       "      <td>68428</td>\n",
       "      <td>100</td>\n",
       "      <td>L</td>\n",
       "      <td>US</td>\n",
       "    </tr>\n",
       "    <tr>\n",
       "      <th>1</th>\n",
       "      <td>MI</td>\n",
       "      <td>Data Scientist</td>\n",
       "      <td>45760</td>\n",
       "      <td>100</td>\n",
       "      <td>S</td>\n",
       "      <td>US</td>\n",
       "    </tr>\n",
       "    <tr>\n",
       "      <th>2</th>\n",
       "      <td>MI</td>\n",
       "      <td>Data Scientist</td>\n",
       "      <td>105000</td>\n",
       "      <td>100</td>\n",
       "      <td>L</td>\n",
       "      <td>US</td>\n",
       "    </tr>\n",
       "    <tr>\n",
       "      <th>3</th>\n",
       "      <td>MI</td>\n",
       "      <td>Data Scientist</td>\n",
       "      <td>118000</td>\n",
       "      <td>100</td>\n",
       "      <td>M</td>\n",
       "      <td>US</td>\n",
       "    </tr>\n",
       "    <tr>\n",
       "      <th>4</th>\n",
       "      <td>SE</td>\n",
       "      <td>Data Scientist</td>\n",
       "      <td>120000</td>\n",
       "      <td>50</td>\n",
       "      <td>L</td>\n",
       "      <td>US</td>\n",
       "    </tr>\n",
       "    <tr>\n",
       "      <th>...</th>\n",
       "      <td>...</td>\n",
       "      <td>...</td>\n",
       "      <td>...</td>\n",
       "      <td>...</td>\n",
       "      <td>...</td>\n",
       "      <td>...</td>\n",
       "    </tr>\n",
       "    <tr>\n",
       "      <th>423</th>\n",
       "      <td>MI</td>\n",
       "      <td>Machine Learning Engineer</td>\n",
       "      <td>74000</td>\n",
       "      <td>50</td>\n",
       "      <td>S</td>\n",
       "      <td>JP</td>\n",
       "    </tr>\n",
       "    <tr>\n",
       "      <th>424</th>\n",
       "      <td>SE</td>\n",
       "      <td>Machine Learning Scientist</td>\n",
       "      <td>260000</td>\n",
       "      <td>0</td>\n",
       "      <td>S</td>\n",
       "      <td>JP</td>\n",
       "    </tr>\n",
       "    <tr>\n",
       "      <th>425</th>\n",
       "      <td>MI</td>\n",
       "      <td>Data Scientist</td>\n",
       "      <td>35590</td>\n",
       "      <td>100</td>\n",
       "      <td>L</td>\n",
       "      <td>PL</td>\n",
       "    </tr>\n",
       "    <tr>\n",
       "      <th>426</th>\n",
       "      <td>MI</td>\n",
       "      <td>Data Engineer</td>\n",
       "      <td>28476</td>\n",
       "      <td>100</td>\n",
       "      <td>L</td>\n",
       "      <td>PL</td>\n",
       "    </tr>\n",
       "    <tr>\n",
       "      <th>427</th>\n",
       "      <td>MI</td>\n",
       "      <td>Machine Learning Engineer</td>\n",
       "      <td>46597</td>\n",
       "      <td>100</td>\n",
       "      <td>L</td>\n",
       "      <td>PL</td>\n",
       "    </tr>\n",
       "  </tbody>\n",
       "</table>\n",
       "<p>428 rows × 6 columns</p>\n",
       "</div>"
      ],
      "text/plain": [
       "    experience_level                   job_title salary_in_usd remote_ratio  \\\n",
       "0                 SE              Data Scientist         68428          100   \n",
       "1                 MI              Data Scientist         45760          100   \n",
       "2                 MI              Data Scientist        105000          100   \n",
       "3                 MI              Data Scientist        118000          100   \n",
       "4                 SE              Data Scientist        120000           50   \n",
       "..               ...                         ...           ...          ...   \n",
       "423               MI   Machine Learning Engineer         74000           50   \n",
       "424               SE  Machine Learning Scientist        260000            0   \n",
       "425               MI              Data Scientist         35590          100   \n",
       "426               MI               Data Engineer         28476          100   \n",
       "427               MI   Machine Learning Engineer         46597          100   \n",
       "\n",
       "    company_size company_location  \n",
       "0              L               US  \n",
       "1              S               US  \n",
       "2              L               US  \n",
       "3              M               US  \n",
       "4              L               US  \n",
       "..           ...              ...  \n",
       "423            S               JP  \n",
       "424            S               JP  \n",
       "425            L               PL  \n",
       "426            L               PL  \n",
       "427            L               PL  \n",
       "\n",
       "[428 rows x 6 columns]"
      ]
     },
     "execution_count": 109,
     "metadata": {},
     "output_type": "execute_result"
    }
   ],
   "source": [
    "k = pd.DataFrame(np.nan_to_num(data))\n",
    "k.columns = data.columns\n",
    "\n",
    "data = k\n",
    "data\n"
   ]
  },
  {
   "cell_type": "code",
   "execution_count": 110,
   "id": "19af5662",
   "metadata": {},
   "outputs": [],
   "source": [
    "data.to_csv('ds_salaries_new.csv')"
   ]
  },
  {
   "cell_type": "code",
   "execution_count": 111,
   "id": "42c59753",
   "metadata": {},
   "outputs": [],
   "source": [
    "for column in ['experience_level' , 'job_title' , 'remote_ratio' ,'company_size','company_location']:\n",
    "    dummies = pd.get_dummies(data[column], prefix=column)\n",
    "    data[dummies.columns] = dummies\n",
    "    del data[column]\n",
    "    "
   ]
  },
  {
   "cell_type": "code",
   "execution_count": 112,
   "id": "2a01fc11",
   "metadata": {},
   "outputs": [],
   "source": [
    "X = data.drop('salary_in_usd' ,axis = 1)\n",
    "y = data['salary_in_usd']\n",
    "y=y.astype('int')"
   ]
  },
  {
   "cell_type": "code",
   "execution_count": 113,
   "id": "f30747a3",
   "metadata": {},
   "outputs": [],
   "source": [
    "X_train, X_test, y_train, y_test = train_test_split(\n",
    " X, y, test_size=0.33, random_state=42)"
   ]
  },
  {
   "cell_type": "code",
   "execution_count": 114,
   "id": "ac66a005",
   "metadata": {},
   "outputs": [
    {
     "data": {
      "text/plain": [
       "RandomForestClassifier(max_depth=5, random_state=1)"
      ]
     },
     "execution_count": 114,
     "metadata": {},
     "output_type": "execute_result"
    }
   ],
   "source": [
    "model = RandomForestClassifier(n_estimators=100, max_depth=5, random_state=1)\n",
    "model.fit(X_train, y_train)\n",
    "\n"
   ]
  },
  {
   "cell_type": "code",
   "execution_count": 115,
   "id": "641e5053",
   "metadata": {},
   "outputs": [],
   "source": [
    "pickle.dump(model, open('model.pkl', 'wb'))"
   ]
  }
 ],
 "metadata": {
  "kernelspec": {
   "display_name": "Python 3 (ipykernel)",
   "language": "python",
   "name": "python3"
  },
  "language_info": {
   "codemirror_mode": {
    "name": "ipython",
    "version": 3
   },
   "file_extension": ".py",
   "mimetype": "text/x-python",
   "name": "python",
   "nbconvert_exporter": "python",
   "pygments_lexer": "ipython3",
   "version": "3.9.1"
  }
 },
 "nbformat": 4,
 "nbformat_minor": 5
}
